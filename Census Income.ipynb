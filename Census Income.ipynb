{
 "cells": [
  {
   "cell_type": "code",
   "execution_count": null,
   "id": "9266be1d",
   "metadata": {},
   "outputs": [],
   "source": [
    "import numpy as np\n",
    "import pandas as pd\n",
    "import os\n",
    "for dirname, _, filenames in os.walk('/kaggle/input'):\n",
    "    for filename in filenames:\n",
    "        print(os.path.join(dirname, filename))"
   ]
  },
  {
   "cell_type": "code",
   "execution_count": null,
   "id": "039f850d",
   "metadata": {},
   "outputs": [],
   "source": [
    "df = pd.read_csv(\"/kaggle/input/adult-census-income/adult.csv\")"
   ]
  },
  {
   "cell_type": "code",
   "execution_count": null,
   "id": "2751aabe",
   "metadata": {},
   "outputs": [],
   "source": [
    "df.head()"
   ]
  },
  {
   "cell_type": "code",
   "execution_count": null,
   "id": "f0bb47a4",
   "metadata": {},
   "outputs": [],
   "source": [
    "df.shape"
   ]
  },
  {
   "cell_type": "code",
   "execution_count": null,
   "id": "fdcdc63d",
   "metadata": {},
   "outputs": [],
   "source": [
    "df.isnull().sum()"
   ]
  },
  {
   "cell_type": "code",
   "execution_count": null,
   "id": "d44ef8cb",
   "metadata": {},
   "outputs": [],
   "source": [
    "col_names = [\"age\", \"workclass\", \"fnlwgt\", \"education\", \"education_num\", \"marital_status\",\n",
    "             \"occupation\", \"relationship\", \"race\", \"sex\", \"capital_gain\", \"capital_loss\",\n",
    "             \"hours_per_week\", \"native_country\", \"income\"]"
   ]
  },
  {
   "cell_type": "code",
   "execution_count": null,
   "id": "db4acc8c",
   "metadata": {},
   "outputs": [],
   "source": [
    "df.columns = col_names"
   ]
  },
  {
   "cell_type": "code",
   "execution_count": null,
   "id": "f6fc7702",
   "metadata": {},
   "outputs": [],
   "source": [
    "numeric = [\"age\", \"fnlwgt\", \"education_num\", \"capital_gain\", \"capital_loss\", \"hours_per_week\"]"
   ]
  },
  {
   "cell_type": "code",
   "execution_count": null,
   "id": "7f5fc6df",
   "metadata": {},
   "outputs": [],
   "source": [
    "categorical = [\"workclass\", \"education\", \"marital_status\", \"occupation\", \n",
    "               \"relationship\", \"race\", \"sex\", \"native_country\", \"income\"]"
   ]
  },
  {
   "cell_type": "code",
   "execution_count": null,
   "id": "43a77508",
   "metadata": {},
   "outputs": [],
   "source": [
    "df[numeric].describe()"
   ]
  },
  {
   "cell_type": "code",
   "execution_count": null,
   "id": "68794610",
   "metadata": {},
   "outputs": [],
   "source": [
    "unknown_count = 0\n",
    "for index, row in df.iterrows():\n",
    "    if '?' in row.values:\n",
    "        unknown_count += 1"
   ]
  },
  {
   "cell_type": "code",
   "execution_count": null,
   "id": "3f6f56d4",
   "metadata": {},
   "outputs": [],
   "source": [
    "unknown_count"
   ]
  },
  {
   "cell_type": "code",
   "execution_count": null,
   "id": "4fc19094",
   "metadata": {},
   "outputs": [],
   "source": [
    "df = df[~df[categorical].apply(lambda row: row.str.contains('\\?', na=False)).any(axis=1)]"
   ]
  },
  {
   "cell_type": "code",
   "execution_count": null,
   "id": "a8199b7a",
   "metadata": {},
   "outputs": [],
   "source": [
    "df.head()"
   ]
  },
  {
   "cell_type": "code",
   "execution_count": null,
   "id": "a9e38159",
   "metadata": {},
   "outputs": [],
   "source": [
    "df.shape"
   ]
  },
  {
   "cell_type": "code",
   "execution_count": null,
   "id": "ba29a4ed",
   "metadata": {},
   "outputs": [],
   "source": [
    "df = df[df.workclass != \"never-worked\"]\n",
    "df = df[df.workclass != \"without-pay\"]\n",
    "df = df[df.occupation != \"Armed-Forces\"]\n",
    "df = df[df.native_country != \"Holand-Netherlands\"]"
   ]
  },
  {
   "cell_type": "code",
   "execution_count": null,
   "id": "53bc69ed",
   "metadata": {},
   "outputs": [],
   "source": [
    "df.shape"
   ]
  },
  {
   "cell_type": "code",
   "execution_count": null,
   "id": "6a2d9ad8",
   "metadata": {},
   "outputs": [],
   "source": [
    "df[\"education\"] = df[\"education\"].str.replace(\"1st-4th\", \"Elementary-School\")\n",
    "df[\"education\"] = df[\"education\"].str.replace(\"5th-6th\", \"Elementary-School\")\n",
    "df[\"education\"] = df[\"education\"].str.replace(\"7th-8th\", \"Elementary-School\")\n",
    "df[\"education\"] = df[\"education\"].str.replace(\"9th\", \"High-School\")\n",
    "df[\"education\"] = df[\"education\"].str.replace(\"10th\", \"High-School\")\n",
    "df[\"education\"] = df[\"education\"].str.replace(\"11th\", \"High-School\")\n",
    "df[\"education\"] = df[\"education\"].str.replace(\"12th\", \"High-School\")\n",
    "df[\"education\"] = df[\"education\"].str.replace(\"Masters\", \"Postgraduate\")\n",
    "df[\"education\"] = df[\"education\"].str.replace(\"Doctorate\", \"Postgraduate\")\n",
    "df[\"education\"] = df[\"education\"].str.replace(\"Bachelors\", \"Undergraduate\")\n",
    "df[\"education\"] = df[\"education\"].str.replace(\"Some-college\", \"Undergraduate\")"
   ]
  },
  {
   "cell_type": "code",
   "execution_count": null,
   "id": "189b8ee0",
   "metadata": {},
   "outputs": [],
   "source": [
    "df[\"education\"].value_counts()"
   ]
  },
  {
   "cell_type": "code",
   "execution_count": null,
   "id": "9508b8ea",
   "metadata": {},
   "outputs": [],
   "source": [
    "df.head()"
   ]
  },
  {
   "cell_type": "code",
   "execution_count": null,
   "id": "c2e47158",
   "metadata": {},
   "outputs": [],
   "source": [
    "from sklearn.preprocessing import LabelEncoder\n",
    "\n",
    "def label_encoder(column):\n",
    "    le = LabelEncoder().fit(column)\n",
    "    print(column.name, le.classes_)\n",
    "    return le.transform(column)"
   ]
  },
  {
   "cell_type": "code",
   "execution_count": null,
   "id": "af235dd5",
   "metadata": {},
   "outputs": [],
   "source": [
    "cols = [\"workclass\", \"education\", \"marital_status\", \"occupation\", \"relationship\", \"race\", \"sex\", \"native_country\", \"income\"]\n",
    "for col in cols:\n",
    "    df[col] = label_encoder(df[col])"
   ]
  },
  {
   "cell_type": "code",
   "execution_count": null,
   "id": "bc84a880",
   "metadata": {},
   "outputs": [],
   "source": [
    "df.head()"
   ]
  },
  {
   "cell_type": "code",
   "execution_count": null,
   "id": "904068d5",
   "metadata": {},
   "outputs": [],
   "source": [
    "X = df.drop(\"income\", axis=1)\n",
    "y = df[\"income\"]"
   ]
  },
  {
   "cell_type": "code",
   "execution_count": null,
   "id": "215bca8f",
   "metadata": {},
   "outputs": [],
   "source": [
    "from sklearn.model_selection import train_test_split\n",
    "\n",
    "X_train, X_test, y_train, y_test = train_test_split(X, y, test_size=0.2)"
   ]
  },
  {
   "cell_type": "code",
   "execution_count": null,
   "id": "9236e729",
   "metadata": {},
   "outputs": [],
   "source": [
    "from sklearn.ensemble import RandomForestClassifier\n",
    "from sklearn.metrics import accuracy_score\n",
    "\n",
    "rf = RandomForestClassifier()\n",
    "rf.fit(X_train, y_train)\n",
    "y_pred = rf.predict(X_test)\n",
    "accuracy_score(y_test, y_pred)"
   ]
  },
  {
   "cell_type": "code",
   "execution_count": null,
   "id": "018d2242",
   "metadata": {},
   "outputs": [],
   "source": [
    "import seaborn as sns\n",
    "from sklearn.metrics import confusion_matrix\n",
    "\n",
    "cm = confusion_matrix(y_test, y_pred)\n",
    "sns.heatmap(cm, annot=True, fmt=\".0f\", cmap=\"Pastel2\")"
   ]
  }
 ],
 "metadata": {
  "kernelspec": {
   "display_name": "Python 3 (ipykernel)",
   "language": "python",
   "name": "python3"
  },
  "language_info": {
   "codemirror_mode": {
    "name": "ipython",
    "version": 3
   },
   "file_extension": ".py",
   "mimetype": "text/x-python",
   "name": "python",
   "nbconvert_exporter": "python",
   "pygments_lexer": "ipython3",
   "version": "3.10.9"
  }
 },
 "nbformat": 4,
 "nbformat_minor": 5
}
